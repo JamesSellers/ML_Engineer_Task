{
 "cells": [
  {
   "cell_type": "code",
   "execution_count": 3,
   "metadata": {},
   "outputs": [],
   "source": [
    "## Imports ##\n",
    "\n",
    "import requests\n",
    "import pandas as pd\n",
    "from model_training import data_preprocessing\n",
    "import json\n",
    "import random"
   ]
  },
  {
   "cell_type": "code",
   "execution_count": 29,
   "metadata": {},
   "outputs": [
    {
     "name": "stdout",
     "output_type": "stream",
     "text": [
      "Executing: query\n",
      "True claim status is 0\n"
     ]
    }
   ],
   "source": [
    "## Generate a data sample ##\n",
    "\n",
    "sample_data = data_preprocessing.collect_from_database(\"query\")\n",
    "index = random.randint(0,5000)\n",
    "\n",
    "json_str = sample_data.drop(columns = \"claim_status\").loc[index].to_json()\n",
    "print(f\"True claim status is {sample_data.loc[index][\"claim_status\"]}\")\n",
    "\n",
    "json_obj = json.loads(json_str)"
   ]
  },
  {
   "cell_type": "code",
   "execution_count": 30,
   "metadata": {},
   "outputs": [
    {
     "name": "stdout",
     "output_type": "stream",
     "text": [
      "POST request was successful.\n",
      "Response data: {'prediction': [0]}\n"
     ]
    }
   ],
   "source": [
    "## Test the data sample ##\n",
    "\n",
    "# Define the URL of the Flask endpoint\n",
    "url = 'http://localhost:80/predict'\n",
    "\n",
    "response = requests.post(url, json=json_obj)\n",
    "\n",
    "if response.status_code == 200:\n",
    "    print('POST request was successful.')\n",
    "    print('Response data:', response.json())\n",
    "else:\n",
    "    print(f'POST request failed with status code: {response.status_code}')"
   ]
  },
  {
   "cell_type": "code",
   "execution_count": 34,
   "metadata": {},
   "outputs": [
    {
     "data": {
      "text/plain": [
       "True"
      ]
     },
     "execution_count": 34,
     "metadata": {},
     "output_type": "execute_result"
    }
   ],
   "source": [
    "response.json()[\"prediction\"][0] in [0,1]"
   ]
  }
 ],
 "metadata": {
  "kernelspec": {
   "display_name": "ml_engineer_task",
   "language": "python",
   "name": "python3"
  },
  "language_info": {
   "codemirror_mode": {
    "name": "ipython",
    "version": 3
   },
   "file_extension": ".py",
   "mimetype": "text/x-python",
   "name": "python",
   "nbconvert_exporter": "python",
   "pygments_lexer": "ipython3",
   "version": "3.12.1"
  }
 },
 "nbformat": 4,
 "nbformat_minor": 2
}
